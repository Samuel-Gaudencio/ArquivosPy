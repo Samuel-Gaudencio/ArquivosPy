{
  "nbformat": 4,
  "nbformat_minor": 0,
  "metadata": {
    "colab": {
      "provenance": [],
      "authorship_tag": "ABX9TyNwg8GSTSz9ye2FRZM1i3GE",
      "include_colab_link": true
    },
    "kernelspec": {
      "name": "python3",
      "display_name": "Python 3"
    },
    "language_info": {
      "name": "python"
    }
  },
  "cells": [
    {
      "cell_type": "markdown",
      "metadata": {
        "id": "view-in-github",
        "colab_type": "text"
      },
      "source": [
        "<a href=\"https://colab.research.google.com/github/Samuel-Gaudencio/ArquivosPy/blob/main/arquivos.ipynb\" target=\"_parent\"><img src=\"https://colab.research.google.com/assets/colab-badge.svg\" alt=\"Open In Colab\"/></a>"
      ]
    },
    {
      "cell_type": "code",
      "execution_count": 2,
      "metadata": {
        "id": "Yo2Hpt97kLnn"
      },
      "outputs": [],
      "source": [
        "linhas = [\n",
        "    '1°; São Paulo; 12396372\\n',\n",
        "    '2°; Rio de Janeiro; 6775561\\n',\n",
        "    '3°; Brasília; 3094325\\n',\n",
        "    '4°; Salvador; 2900319\\n',\n",
        "    '5°; Fortaleza; 2703391\\n',\n",
        "    '6°; Belo Horizonte; 2530701\\n',\n",
        "    '7°; Manaus; 2255903\\n',\n",
        "    '8°; Curitiba; 1963726\\n',\n",
        "    '9°; Recife; 1661017\\n',\n",
        "    '10°; Goiânia; 1555626\\n',\n",
        "]\n",
        "arquivo = open('cidades.txt', 'a')\n",
        "arquivo.writelines(linhas)\n",
        "arquivo.close()\n",
        "\n",
        "soma = 0\n",
        "arquivo = open('cidades.txt', 'r')\n",
        "for linha in arquivo:\n",
        "    cidade = linha.split(' ')\n",
        "    populacao = int(cidade[-1])\n",
        "    # print(cidade)\n",
        "    # print(populacao)\n",
        "    soma = soma + populacao\n",
        "arquivo.close()\n",
        "print(f\"A soma da população dos 10 municípios com maior populaçao do Brasil é\", soma)\n",
        "\n",
        "linhas = [\n",
        "    '11°; Belém; 1506420\\n',\n",
        "    '12°; Porto Alegre; 1492530\\n',\n",
        "    '13°; Guarulhos; 1404694\\n',\n",
        "    '14°; Campinas; 1223237\\n',\n",
        "    '15°; São Luís; 1115932\\n',\n",
        "    '16; São Gonçalo; 1098357\\n',\n",
        "    '17°; Maceió; 1031597\\n',\n",
        "    '18°; Duque de Caxias; 929449\\n',\n",
        "    '19°; Campo Grande; 916001\\n',\n",
        "    '20°; Natal; 896708\\n',\n",
        "]\n",
        "\n",
        "arquivo = open('cidades.txt', 'a')\n",
        "arquivo.writelines(linhas)\n",
        "arquivo.close()\n",
        "\n",
        "soma = 0 \n",
        "arquivo = open('cidades.txt', 'r')\n",
        "for linha in arquivo:\n",
        "    cidades = linha.split(' ')\n",
        "    # print(cidades)\n",
        "    populacao = int(cidade[-1])\n",
        "    # print(populacao)\n",
        "    soma = soma + populacao\n",
        "arquivo.close()\n",
        "print(f\"A soma da população dos 20 municípios com maior populaçao do Brasil é\", soma)"
      ]
    }
  ]
}